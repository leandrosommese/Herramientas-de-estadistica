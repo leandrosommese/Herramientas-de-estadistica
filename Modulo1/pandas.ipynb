{
 "cells": [
  {
   "cell_type": "markdown",
   "metadata": {},
   "source": [
    "**PANDAS** es una herramienta de análisis y manipulación de datos de código abierto rápida, potente, flexible y fácil de usar, construido sobre el lenguaje de programación Python."
   ]
  },
  {
   "cell_type": "markdown",
   "metadata": {},
   "source": [
    "# INSTALACIÓN\n",
    "\n",
    "**Anaconda**\n",
    "\n",
    "pandas es parte de la distribución de Anaconda y puede ser instalado usando:\n",
    "```bash\n",
    "conda install pandas\n",
    "```\n",
    "**PIP**\n",
    "\n",
    "pandas puede ser instalado via pip desde [PyPI](https://pypi.org/project/pandas/)\n",
    "```bash\n",
    "pip install pandas\n",
    "```"
   ]
  },
  {
   "cell_type": "markdown",
   "metadata": {},
   "source": [
    "La obtener información sobre todo lo que puede hacerse con pandas se puede buscar en la [documentación](https://pandas.pydata.org/docs)."
   ]
  },
  {
   "cell_type": "markdown",
   "metadata": {},
   "source": [
    "¿Qué tipo de datos maneja?\n",
    "\n",
    "pandas trabaja con datos tabulados, como datos almacenados en hojas de cálculo o bases de datos. pandas ayuda a explorar, limpiar y procesar datos. En pandas, una tabla de datos se llama DataFrame."
   ]
  },
  {
   "cell_type": "code",
   "execution_count": 1,
   "metadata": {},
   "outputs": [],
   "source": [
    "# Para usar la bilbioteca debemos comenzar el script importándola\n",
    "import pandas as pd"
   ]
  },
  {
   "cell_type": "code",
   "execution_count": 2,
   "metadata": {},
   "outputs": [
    {
     "name": "stdout",
     "output_type": "stream",
     "text": [
      "   col1  col2\n",
      "0     1     3\n",
      "1     2     4\n"
     ]
    }
   ],
   "source": [
    "# Crear dataframe a partir de diccionario\n",
    "\n",
    "diccionario = {'col1': [1, 2], 'col2': [3, 4]}\n",
    "df = pd.DataFrame(data=diccionario)\n",
    "print(df)"
   ]
  },
  {
   "cell_type": "code",
   "execution_count": 3,
   "metadata": {},
   "outputs": [
    {
     "name": "stdout",
     "output_type": "stream",
     "text": [
      "   a  b  c\n",
      "0  1  2  3\n",
      "1  4  5  6\n",
      "2  7  8  9\n"
     ]
    }
   ],
   "source": [
    "# Crear dataframe a partir de numpy array\n",
    "\n",
    "import numpy as np\n",
    "\n",
    "array_1 = np.array([[1, 2, 3], [4, 5, 6], [7, 8, 9]])\n",
    "df2 = pd.DataFrame(array_1,columns=['a', 'b', 'c'])\n",
    "print(df2)"
   ]
  },
  {
   "cell_type": "markdown",
   "metadata": {},
   "source": [
    "#### ¿Cómo leo y escribo datos tabulares?\n",
    "\n",
    "pandas admite la integración con muchos formatos de archivo o fuentes de datos listos para usar (csv, excel, sql, json, parquet,...).\n",
    "La función con el prefijo read_* proporciona la importación de datos de cada una de estas fuentes de datos. De manera similar, los métodos to_* se utilizan para almacenar datos."
   ]
  },
  {
   "cell_type": "markdown",
   "metadata": {},
   "source": [
    "📝 **Consigna 1:** Les propongo cargar una tabla propia a partir de un archivo ¿cómo harían para visualizar las primeras 3 filas de su tabla? "
   ]
  },
  {
   "cell_type": "code",
   "execution_count": 16,
   "metadata": {},
   "outputs": [
    {
     "data": {
      "text/plain": [
       "43"
      ]
     },
     "execution_count": 16,
     "metadata": {},
     "output_type": "execute_result"
    }
   ],
   "source": [
    "path = '/home/lean/Documentos/Lean/Estadistica/tabla de corales.1.xlsm'\n",
    "datos_pdb = pd.read_excel(path)\n",
    "\n",
    "datos_pdb.head()\n",
    "# datos_pdb.tail()\n",
    "# datos_pdb.columns\n",
    "len(datos_pdb[datos_pdb['Especie']=='Balanophyllia malouinensis'])"
   ]
  },
  {
   "cell_type": "code",
   "execution_count": 4,
   "metadata": {},
   "outputs": [
    {
     "data": {
      "text/plain": [
       "Index(['id', 'edad', 'pregunta_edad', 'pregunta_imc',\n",
       "       'pregunta_circunferencia_de_cintura', 'pregunta_actividad_fisica',\n",
       "       'pregunta_consume_vegetales_frutas_y_hortalizas',\n",
       "       'pregunta_toma_medicacion_para_controlar_hta',\n",
       "       'pregunta_le_encontraron_hiperglucemia',\n",
       "       'pregunta_le_diagnosticaron_diabetes_a_algun_familiar', 'puntaje',\n",
       "       'puntaje_rev', 'control_o_intervencion', 'numero_doc', 'nombre',\n",
       "       'apellido', 'sexo', 'fecha_de_nacimiento', 'domicilio', 'telefono',\n",
       "       'celular', 'email', 'user_id', 'created_at', 'updated_at'],\n",
       "      dtype='object')"
      ]
     },
     "execution_count": 4,
     "metadata": {},
     "output_type": "execute_result"
    }
   ],
   "source": [
    "datos_pdb.columns"
   ]
  },
  {
   "cell_type": "code",
   "execution_count": 5,
   "metadata": {},
   "outputs": [
    {
     "data": {
      "text/html": [
       "<div>\n",
       "<style scoped>\n",
       "    .dataframe tbody tr th:only-of-type {\n",
       "        vertical-align: middle;\n",
       "    }\n",
       "\n",
       "    .dataframe tbody tr th {\n",
       "        vertical-align: top;\n",
       "    }\n",
       "\n",
       "    .dataframe thead th {\n",
       "        text-align: right;\n",
       "    }\n",
       "</style>\n",
       "<table border=\"1\" class=\"dataframe\">\n",
       "  <thead>\n",
       "    <tr style=\"text-align: right;\">\n",
       "      <th></th>\n",
       "      <th>PDB ID</th>\n",
       "      <th>Chain ID</th>\n",
       "      <th>Structure Title</th>\n",
       "    </tr>\n",
       "  </thead>\n",
       "  <tbody>\n",
       "    <tr>\n",
       "      <th>5</th>\n",
       "      <td>1A0S</td>\n",
       "      <td>P</td>\n",
       "      <td>SUCROSE-SPECIFIC PORIN</td>\n",
       "    </tr>\n",
       "    <tr>\n",
       "      <th>6</th>\n",
       "      <td>1A0S</td>\n",
       "      <td>Q</td>\n",
       "      <td>SUCROSE-SPECIFIC PORIN</td>\n",
       "    </tr>\n",
       "    <tr>\n",
       "      <th>7</th>\n",
       "      <td>1A0S</td>\n",
       "      <td>R</td>\n",
       "      <td>SUCROSE-SPECIFIC PORIN</td>\n",
       "    </tr>\n",
       "    <tr>\n",
       "      <th>8</th>\n",
       "      <td>1A0T</td>\n",
       "      <td>P</td>\n",
       "      <td>SUCROSE-SPECIFIC PORIN, WITH BOUND SUCROSE MOL...</td>\n",
       "    </tr>\n",
       "    <tr>\n",
       "      <th>9</th>\n",
       "      <td>1A0T</td>\n",
       "      <td>Q</td>\n",
       "      <td>SUCROSE-SPECIFIC PORIN, WITH BOUND SUCROSE MOL...</td>\n",
       "    </tr>\n",
       "    <tr>\n",
       "      <th>10</th>\n",
       "      <td>1A0T</td>\n",
       "      <td>R</td>\n",
       "      <td>SUCROSE-SPECIFIC PORIN, WITH BOUND SUCROSE MOL...</td>\n",
       "    </tr>\n",
       "  </tbody>\n",
       "</table>\n",
       "</div>"
      ],
      "text/plain": [
       "   PDB ID Chain ID                                    Structure Title\n",
       "5    1A0S        P                             SUCROSE-SPECIFIC PORIN\n",
       "6    1A0S        Q                             SUCROSE-SPECIFIC PORIN\n",
       "7    1A0S        R                             SUCROSE-SPECIFIC PORIN\n",
       "8    1A0T        P  SUCROSE-SPECIFIC PORIN, WITH BOUND SUCROSE MOL...\n",
       "9    1A0T        Q  SUCROSE-SPECIFIC PORIN, WITH BOUND SUCROSE MOL...\n",
       "10   1A0T        R  SUCROSE-SPECIFIC PORIN, WITH BOUND SUCROSE MOL..."
      ]
     },
     "execution_count": 5,
     "metadata": {},
     "output_type": "execute_result"
    }
   ],
   "source": [
    "datos_pdb.loc[5:10,['PDB ID','Chain ID','Structure Title']]"
   ]
  },
  {
   "cell_type": "markdown",
   "metadata": {},
   "source": [
    "#### ¿Cómo selecciono un subconjunto de una tabla?\n",
    "\n",
    "Los métodos para dividir, seleccionar, filtrar y extraer los datos que necesita están disponibles en pandas.\n",
    "\n",
    "[Doc](http://pandas.pydata.org/docs/user_guide/indexing.html)"
   ]
  },
  {
   "cell_type": "markdown",
   "metadata": {},
   "source": [
    "📝 **Consigna 2:** Me gustaría quedarme solo con un tipo de dato para trabajar ¿cómo harías para extraer los valores de una columna usando otra para filtrar?¿qué sucede si intentamos reindexar la tabla? "
   ]
  },
  {
   "cell_type": "code",
   "execution_count": 6,
   "metadata": {},
   "outputs": [],
   "source": [
    "df2 = datos_pdb[datos_pdb['Resolution']<2]"
   ]
  },
  {
   "cell_type": "code",
   "execution_count": 7,
   "metadata": {},
   "outputs": [
    {
     "data": {
      "text/html": [
       "<div>\n",
       "<style scoped>\n",
       "    .dataframe tbody tr th:only-of-type {\n",
       "        vertical-align: middle;\n",
       "    }\n",
       "\n",
       "    .dataframe tbody tr th {\n",
       "        vertical-align: top;\n",
       "    }\n",
       "\n",
       "    .dataframe thead th {\n",
       "        text-align: right;\n",
       "    }\n",
       "</style>\n",
       "<table border=\"1\" class=\"dataframe\">\n",
       "  <thead>\n",
       "    <tr style=\"text-align: right;\">\n",
       "      <th></th>\n",
       "      <th>PDB ID</th>\n",
       "      <th>Chain ID</th>\n",
       "      <th>Structure Title</th>\n",
       "      <th>Resolution</th>\n",
       "      <th>Ligand Name</th>\n",
       "      <th>Macromolecule Name</th>\n",
       "      <th>Taxonomy ID</th>\n",
       "      <th>Ka (1/M)</th>\n",
       "    </tr>\n",
       "    <tr>\n",
       "      <th>Ligand ID</th>\n",
       "      <th></th>\n",
       "      <th></th>\n",
       "      <th></th>\n",
       "      <th></th>\n",
       "      <th></th>\n",
       "      <th></th>\n",
       "      <th></th>\n",
       "      <th></th>\n",
       "    </tr>\n",
       "  </thead>\n",
       "  <tbody>\n",
       "    <tr>\n",
       "      <th>CA</th>\n",
       "      <td>158D</td>\n",
       "      <td>A</td>\n",
       "      <td>CRYSTALLOGRAPHIC ANALYSIS OF C-C-A-A-G-C-T-T-G...</td>\n",
       "      <td>1.90</td>\n",
       "      <td>CALCIUM ION</td>\n",
       "      <td>DNA (5'-D(*CP*CP*AP*AP*GP*CP*TP*TP*GP*G)-3')</td>\n",
       "      <td>NaN</td>\n",
       "      <td>NaN</td>\n",
       "    </tr>\n",
       "    <tr>\n",
       "      <th>CA</th>\n",
       "      <td>158D</td>\n",
       "      <td>B</td>\n",
       "      <td>CRYSTALLOGRAPHIC ANALYSIS OF C-C-A-A-G-C-T-T-G...</td>\n",
       "      <td>1.90</td>\n",
       "      <td>CALCIUM ION</td>\n",
       "      <td>DNA (5'-D(*CP*CP*AP*AP*GP*CP*TP*TP*GP*G)-3')</td>\n",
       "      <td>NaN</td>\n",
       "      <td>NaN</td>\n",
       "    </tr>\n",
       "    <tr>\n",
       "      <th>CA</th>\n",
       "      <td>196D</td>\n",
       "      <td>A</td>\n",
       "      <td>CRYSTAL STRUCTURE OF C-T-C-T-C-G-A-G-A-G: IMPL...</td>\n",
       "      <td>1.70</td>\n",
       "      <td>CALCIUM ION</td>\n",
       "      <td>DNA (5'-D(*CP*TP*CP*TP*CP*GP*AP*GP*AP*G)-3')</td>\n",
       "      <td>NaN</td>\n",
       "      <td>NaN</td>\n",
       "    </tr>\n",
       "    <tr>\n",
       "      <th>CA</th>\n",
       "      <td>196D</td>\n",
       "      <td>B</td>\n",
       "      <td>CRYSTAL STRUCTURE OF C-T-C-T-C-G-A-G-A-G: IMPL...</td>\n",
       "      <td>1.70</td>\n",
       "      <td>CALCIUM ION</td>\n",
       "      <td>DNA (5'-D(*CP*TP*CP*TP*CP*GP*AP*GP*AP*G)-3')</td>\n",
       "      <td>NaN</td>\n",
       "      <td>NaN</td>\n",
       "    </tr>\n",
       "    <tr>\n",
       "      <th>CA</th>\n",
       "      <td>1A0J</td>\n",
       "      <td>A</td>\n",
       "      <td>CRYSTAL STRUCTURE OF A NON-PSYCHROPHILIC TRYPS...</td>\n",
       "      <td>1.70</td>\n",
       "      <td>CALCIUM ION</td>\n",
       "      <td>TRYPSIN</td>\n",
       "      <td>8030</td>\n",
       "      <td>NaN</td>\n",
       "    </tr>\n",
       "    <tr>\n",
       "      <th>...</th>\n",
       "      <td>...</td>\n",
       "      <td>...</td>\n",
       "      <td>...</td>\n",
       "      <td>...</td>\n",
       "      <td>...</td>\n",
       "      <td>...</td>\n",
       "      <td>...</td>\n",
       "      <td>...</td>\n",
       "    </tr>\n",
       "    <tr>\n",
       "      <th>CA</th>\n",
       "      <td>8EST</td>\n",
       "      <td>E</td>\n",
       "      <td>REACTION OF PORCINE PANCREATIC ELASTASE WITH 7...</td>\n",
       "      <td>1.78</td>\n",
       "      <td>CALCIUM ION</td>\n",
       "      <td>PORCINE PANCREATIC ELASTASE</td>\n",
       "      <td>9823</td>\n",
       "      <td>NaN</td>\n",
       "    </tr>\n",
       "    <tr>\n",
       "      <th>CA</th>\n",
       "      <td>8TLN</td>\n",
       "      <td>E</td>\n",
       "      <td>STRUCTURAL COMPARISON SUGGESTS THAT THERMOLYSI...</td>\n",
       "      <td>1.60</td>\n",
       "      <td>CALCIUM ION</td>\n",
       "      <td>THERMOLYSIN</td>\n",
       "      <td>1427</td>\n",
       "      <td>NaN</td>\n",
       "    </tr>\n",
       "    <tr>\n",
       "      <th>CA</th>\n",
       "      <td>966C</td>\n",
       "      <td>A</td>\n",
       "      <td>CRYSTAL STRUCTURE OF FIBROBLAST COLLAGENASE-1 ...</td>\n",
       "      <td>1.90</td>\n",
       "      <td>CALCIUM ION</td>\n",
       "      <td>MMP-1</td>\n",
       "      <td>9606</td>\n",
       "      <td>NaN</td>\n",
       "    </tr>\n",
       "    <tr>\n",
       "      <th>CA</th>\n",
       "      <td>9EST</td>\n",
       "      <td>A</td>\n",
       "      <td>STRUCTURAL STUDY OF PORCINE PANCREATIC ELASTAS...</td>\n",
       "      <td>1.90</td>\n",
       "      <td>CALCIUM ION</td>\n",
       "      <td>PORCINE PANCREATIC ELASTASE</td>\n",
       "      <td>9823</td>\n",
       "      <td>NaN</td>\n",
       "    </tr>\n",
       "    <tr>\n",
       "      <th>CA</th>\n",
       "      <td>9RNT</td>\n",
       "      <td>A</td>\n",
       "      <td>RIBONUCLEASE T1 WITH FREE RECOGNITION AND CATA...</td>\n",
       "      <td>1.50</td>\n",
       "      <td>CALCIUM ION</td>\n",
       "      <td>RIBONUCLEASE T1</td>\n",
       "      <td>5062</td>\n",
       "      <td>NaN</td>\n",
       "    </tr>\n",
       "  </tbody>\n",
       "</table>\n",
       "<p>7933 rows × 8 columns</p>\n",
       "</div>"
      ],
      "text/plain": [
       "          PDB ID Chain ID                                    Structure Title  \\\n",
       "Ligand ID                                                                      \n",
       "CA          158D        A  CRYSTALLOGRAPHIC ANALYSIS OF C-C-A-A-G-C-T-T-G...   \n",
       "CA          158D        B  CRYSTALLOGRAPHIC ANALYSIS OF C-C-A-A-G-C-T-T-G...   \n",
       "CA          196D        A  CRYSTAL STRUCTURE OF C-T-C-T-C-G-A-G-A-G: IMPL...   \n",
       "CA          196D        B  CRYSTAL STRUCTURE OF C-T-C-T-C-G-A-G-A-G: IMPL...   \n",
       "CA          1A0J        A  CRYSTAL STRUCTURE OF A NON-PSYCHROPHILIC TRYPS...   \n",
       "...          ...      ...                                                ...   \n",
       "CA          8EST        E  REACTION OF PORCINE PANCREATIC ELASTASE WITH 7...   \n",
       "CA          8TLN        E  STRUCTURAL COMPARISON SUGGESTS THAT THERMOLYSI...   \n",
       "CA          966C        A  CRYSTAL STRUCTURE OF FIBROBLAST COLLAGENASE-1 ...   \n",
       "CA          9EST        A  STRUCTURAL STUDY OF PORCINE PANCREATIC ELASTAS...   \n",
       "CA          9RNT        A  RIBONUCLEASE T1 WITH FREE RECOGNITION AND CATA...   \n",
       "\n",
       "           Resolution  Ligand Name  \\\n",
       "Ligand ID                            \n",
       "CA               1.90  CALCIUM ION   \n",
       "CA               1.90  CALCIUM ION   \n",
       "CA               1.70  CALCIUM ION   \n",
       "CA               1.70  CALCIUM ION   \n",
       "CA               1.70  CALCIUM ION   \n",
       "...               ...          ...   \n",
       "CA               1.78  CALCIUM ION   \n",
       "CA               1.60  CALCIUM ION   \n",
       "CA               1.90  CALCIUM ION   \n",
       "CA               1.90  CALCIUM ION   \n",
       "CA               1.50  CALCIUM ION   \n",
       "\n",
       "                                     Macromolecule Name Taxonomy ID  Ka (1/M)  \n",
       "Ligand ID                                                                      \n",
       "CA         DNA (5'-D(*CP*CP*AP*AP*GP*CP*TP*TP*GP*G)-3')         NaN       NaN  \n",
       "CA         DNA (5'-D(*CP*CP*AP*AP*GP*CP*TP*TP*GP*G)-3')         NaN       NaN  \n",
       "CA         DNA (5'-D(*CP*TP*CP*TP*CP*GP*AP*GP*AP*G)-3')         NaN       NaN  \n",
       "CA         DNA (5'-D(*CP*TP*CP*TP*CP*GP*AP*GP*AP*G)-3')         NaN       NaN  \n",
       "CA                                              TRYPSIN        8030       NaN  \n",
       "...                                                 ...         ...       ...  \n",
       "CA                          PORCINE PANCREATIC ELASTASE        9823       NaN  \n",
       "CA                                          THERMOLYSIN        1427       NaN  \n",
       "CA                                                MMP-1        9606       NaN  \n",
       "CA                          PORCINE PANCREATIC ELASTASE        9823       NaN  \n",
       "CA                                      RIBONUCLEASE T1        5062       NaN  \n",
       "\n",
       "[7933 rows x 8 columns]"
      ]
     },
     "execution_count": 7,
     "metadata": {},
     "output_type": "execute_result"
    }
   ],
   "source": [
    "df2.set_index('Ligand ID')"
   ]
  },
  {
   "cell_type": "markdown",
   "metadata": {},
   "source": [
    "#### ¿Cómo crear tramas en pandas?\n",
    "\n",
    "pandas proporciona trazar sus datos de forma inmediata, utilizando el poder de Matplotlib. Puede elegir el tipo de gráfico (dispersión, barra, diagrama de caja,...) correspondiente a sus datos.\n",
    "\n",
    "[Doc-matplotlib](https://matplotlib.org/)\n",
    "\n",
    "[Doc-pandas visualization](http://pandas.pydata.org/docs/user_guide/visualization.html/)"
   ]
  },
  {
   "cell_type": "markdown",
   "metadata": {},
   "source": [
    "📝 **Consigna 3:** Antes de trabajar sobre la tabla nos gustaría visualizar los datos de forma clara ¿cómo graficaría los datos que tenés? ¿qué tendrías en cuenta para eso?"
   ]
  },
  {
   "cell_type": "code",
   "execution_count": 32,
   "metadata": {},
   "outputs": [],
   "source": [
    "resolution_pdb = datos_pdb['Resolution'].dropna()\n",
    "\n",
    "# del datos_pdb['Ka (1/M)']"
   ]
  },
  {
   "cell_type": "code",
   "execution_count": 26,
   "metadata": {},
   "outputs": [
    {
     "data": {
      "text/html": [
       "<div>\n",
       "<style scoped>\n",
       "    .dataframe tbody tr th:only-of-type {\n",
       "        vertical-align: middle;\n",
       "    }\n",
       "\n",
       "    .dataframe tbody tr th {\n",
       "        vertical-align: top;\n",
       "    }\n",
       "\n",
       "    .dataframe thead th {\n",
       "        text-align: right;\n",
       "    }\n",
       "</style>\n",
       "<table border=\"1\" class=\"dataframe\">\n",
       "  <thead>\n",
       "    <tr style=\"text-align: right;\">\n",
       "      <th></th>\n",
       "      <th>PDB ID</th>\n",
       "      <th>Chain ID</th>\n",
       "      <th>Structure Title</th>\n",
       "      <th>Resolution</th>\n",
       "      <th>Ligand ID</th>\n",
       "      <th>Ligand Name</th>\n",
       "      <th>Macromolecule Name</th>\n",
       "      <th>Taxonomy ID</th>\n",
       "    </tr>\n",
       "  </thead>\n",
       "  <tbody>\n",
       "    <tr>\n",
       "      <th>0</th>\n",
       "      <td>158D</td>\n",
       "      <td>A</td>\n",
       "      <td>CRYSTALLOGRAPHIC ANALYSIS OF C-C-A-A-G-C-T-T-G...</td>\n",
       "      <td>1.9</td>\n",
       "      <td>CA</td>\n",
       "      <td>CALCIUM ION</td>\n",
       "      <td>DNA (5'-D(*CP*CP*AP*AP*GP*CP*TP*TP*GP*G)-3')</td>\n",
       "      <td>NaN</td>\n",
       "    </tr>\n",
       "    <tr>\n",
       "      <th>1</th>\n",
       "      <td>158D</td>\n",
       "      <td>B</td>\n",
       "      <td>CRYSTALLOGRAPHIC ANALYSIS OF C-C-A-A-G-C-T-T-G...</td>\n",
       "      <td>1.9</td>\n",
       "      <td>CA</td>\n",
       "      <td>CALCIUM ION</td>\n",
       "      <td>DNA (5'-D(*CP*CP*AP*AP*GP*CP*TP*TP*GP*G)-3')</td>\n",
       "      <td>NaN</td>\n",
       "    </tr>\n",
       "    <tr>\n",
       "      <th>2</th>\n",
       "      <td>196D</td>\n",
       "      <td>A</td>\n",
       "      <td>CRYSTAL STRUCTURE OF C-T-C-T-C-G-A-G-A-G: IMPL...</td>\n",
       "      <td>1.7</td>\n",
       "      <td>CA</td>\n",
       "      <td>CALCIUM ION</td>\n",
       "      <td>DNA (5'-D(*CP*TP*CP*TP*CP*GP*AP*GP*AP*G)-3')</td>\n",
       "      <td>NaN</td>\n",
       "    </tr>\n",
       "    <tr>\n",
       "      <th>3</th>\n",
       "      <td>196D</td>\n",
       "      <td>B</td>\n",
       "      <td>CRYSTAL STRUCTURE OF C-T-C-T-C-G-A-G-A-G: IMPL...</td>\n",
       "      <td>1.7</td>\n",
       "      <td>CA</td>\n",
       "      <td>CALCIUM ION</td>\n",
       "      <td>DNA (5'-D(*CP*TP*CP*TP*CP*GP*AP*GP*AP*G)-3')</td>\n",
       "      <td>NaN</td>\n",
       "    </tr>\n",
       "    <tr>\n",
       "      <th>4</th>\n",
       "      <td>1A0J</td>\n",
       "      <td>A</td>\n",
       "      <td>CRYSTAL STRUCTURE OF A NON-PSYCHROPHILIC TRYPS...</td>\n",
       "      <td>1.7</td>\n",
       "      <td>CA</td>\n",
       "      <td>CALCIUM ION</td>\n",
       "      <td>TRYPSIN</td>\n",
       "      <td>8030</td>\n",
       "    </tr>\n",
       "    <tr>\n",
       "      <th>...</th>\n",
       "      <td>...</td>\n",
       "      <td>...</td>\n",
       "      <td>...</td>\n",
       "      <td>...</td>\n",
       "      <td>...</td>\n",
       "      <td>...</td>\n",
       "      <td>...</td>\n",
       "      <td>...</td>\n",
       "    </tr>\n",
       "    <tr>\n",
       "      <th>55488</th>\n",
       "      <td>NaN</td>\n",
       "      <td>NaN</td>\n",
       "      <td>NaN</td>\n",
       "      <td>NaN</td>\n",
       "      <td>NaN</td>\n",
       "      <td>NaN</td>\n",
       "      <td>NaN</td>\n",
       "      <td>NaN</td>\n",
       "    </tr>\n",
       "    <tr>\n",
       "      <th>55489</th>\n",
       "      <td>NaN</td>\n",
       "      <td>NaN</td>\n",
       "      <td>NaN</td>\n",
       "      <td>NaN</td>\n",
       "      <td>NaN</td>\n",
       "      <td>NaN</td>\n",
       "      <td>NaN</td>\n",
       "      <td>NaN</td>\n",
       "    </tr>\n",
       "    <tr>\n",
       "      <th>55490</th>\n",
       "      <td>NaN</td>\n",
       "      <td>NaN</td>\n",
       "      <td>NaN</td>\n",
       "      <td>NaN</td>\n",
       "      <td>NaN</td>\n",
       "      <td>NaN</td>\n",
       "      <td>NaN</td>\n",
       "      <td>NaN</td>\n",
       "    </tr>\n",
       "    <tr>\n",
       "      <th>55491</th>\n",
       "      <td>NaN</td>\n",
       "      <td>NaN</td>\n",
       "      <td>NaN</td>\n",
       "      <td>NaN</td>\n",
       "      <td>NaN</td>\n",
       "      <td>NaN</td>\n",
       "      <td>NaN</td>\n",
       "      <td>NaN</td>\n",
       "    </tr>\n",
       "    <tr>\n",
       "      <th>55492</th>\n",
       "      <td>NaN</td>\n",
       "      <td>NaN</td>\n",
       "      <td>NaN</td>\n",
       "      <td>NaN</td>\n",
       "      <td>NaN</td>\n",
       "      <td>NaN</td>\n",
       "      <td>NaN</td>\n",
       "      <td>NaN</td>\n",
       "    </tr>\n",
       "  </tbody>\n",
       "</table>\n",
       "<p>55493 rows × 8 columns</p>\n",
       "</div>"
      ],
      "text/plain": [
       "      PDB ID Chain ID                                    Structure Title  \\\n",
       "0       158D        A  CRYSTALLOGRAPHIC ANALYSIS OF C-C-A-A-G-C-T-T-G...   \n",
       "1       158D        B  CRYSTALLOGRAPHIC ANALYSIS OF C-C-A-A-G-C-T-T-G...   \n",
       "2       196D        A  CRYSTAL STRUCTURE OF C-T-C-T-C-G-A-G-A-G: IMPL...   \n",
       "3       196D        B  CRYSTAL STRUCTURE OF C-T-C-T-C-G-A-G-A-G: IMPL...   \n",
       "4       1A0J        A  CRYSTAL STRUCTURE OF A NON-PSYCHROPHILIC TRYPS...   \n",
       "...      ...      ...                                                ...   \n",
       "55488    NaN      NaN                                                NaN   \n",
       "55489    NaN      NaN                                                NaN   \n",
       "55490    NaN      NaN                                                NaN   \n",
       "55491    NaN      NaN                                                NaN   \n",
       "55492    NaN      NaN                                                NaN   \n",
       "\n",
       "       Resolution Ligand ID  Ligand Name  \\\n",
       "0             1.9        CA  CALCIUM ION   \n",
       "1             1.9        CA  CALCIUM ION   \n",
       "2             1.7        CA  CALCIUM ION   \n",
       "3             1.7        CA  CALCIUM ION   \n",
       "4             1.7        CA  CALCIUM ION   \n",
       "...           ...       ...          ...   \n",
       "55488         NaN       NaN          NaN   \n",
       "55489         NaN       NaN          NaN   \n",
       "55490         NaN       NaN          NaN   \n",
       "55491         NaN       NaN          NaN   \n",
       "55492         NaN       NaN          NaN   \n",
       "\n",
       "                                 Macromolecule Name Taxonomy ID  \n",
       "0      DNA (5'-D(*CP*CP*AP*AP*GP*CP*TP*TP*GP*G)-3')         NaN  \n",
       "1      DNA (5'-D(*CP*CP*AP*AP*GP*CP*TP*TP*GP*G)-3')         NaN  \n",
       "2      DNA (5'-D(*CP*TP*CP*TP*CP*GP*AP*GP*AP*G)-3')         NaN  \n",
       "3      DNA (5'-D(*CP*TP*CP*TP*CP*GP*AP*GP*AP*G)-3')         NaN  \n",
       "4                                           TRYPSIN        8030  \n",
       "...                                             ...         ...  \n",
       "55488                                           NaN         NaN  \n",
       "55489                                           NaN         NaN  \n",
       "55490                                           NaN         NaN  \n",
       "55491                                           NaN         NaN  \n",
       "55492                                           NaN         NaN  \n",
       "\n",
       "[55493 rows x 8 columns]"
      ]
     },
     "execution_count": 26,
     "metadata": {},
     "output_type": "execute_result"
    }
   ],
   "source": [
    "datos_pdb"
   ]
  },
  {
   "cell_type": "code",
   "execution_count": 33,
   "metadata": {},
   "outputs": [
    {
     "data": {
      "text/plain": [
       "(array([1.9237e+04, 5.7600e+02, 9.0000e+01, 3.0000e+00, 0.0000e+00,\n",
       "        0.0000e+00, 1.0000e+00, 8.0000e+00, 2.0000e+00, 1.3000e+01]),\n",
       " array([ 0.61 ,  3.549,  6.488,  9.427, 12.366, 15.305, 18.244, 21.183,\n",
       "        24.122, 27.061, 30.   ]),\n",
       " <BarContainer object of 10 artists>)"
      ]
     },
     "execution_count": 33,
     "metadata": {},
     "output_type": "execute_result"
    },
    {
     "data": {
      "image/png": "[encoded data removed]",
      "text/plain": [
       "<Figure size 640x480 with 1 Axes>"
      ]
     },
     "metadata": {},
     "output_type": "display_data"
    }
   ],
   "source": [
    "import matplotlib.pyplot as plt\n",
    "\n",
    "plt.hist(resolution_pdb)"
   ]
  },
  {
   "cell_type": "markdown",
   "metadata": {},
   "source": [
    "#### ¿Cómo crear nuevas columnas derivadas de columnas existentes?\n",
    "\n",
    "No hay necesidad de recorrer todas las filas de su tabla de datos para hacer cálculos. Las manipulaciones de datos en una columna funcionan por elementos. Agregar una columna a un DataFrame en función de los datos existentes en otras columnas es sencillo."
   ]
  },
  {
   "cell_type": "markdown",
   "metadata": {},
   "source": [
    "📝 **Consigna 4:** Deseo hacer una operación sobre una columna existente y poner ese resultado en una nueva columna ¿cómo harías?"
   ]
  },
  {
   "cell_type": "code",
   "execution_count": 34,
   "metadata": {},
   "outputs": [],
   "source": [
    "def multiplica(columna,factor):\n",
    "    return columna*factor\n",
    "\n",
    "resultado_ant = multiplica(datos_pdb['Resolution'],4)\n",
    "\n",
    "datos_pdb['doble_resolucion'] = resultado_ant\n",
    "# datos_pdb.to_csv('/path_to_my_file/tabla.csv',sep='\\t',decimal=',',index=False)"
   ]
  },
  {
   "cell_type": "code",
   "execution_count": 38,
   "metadata": {},
   "outputs": [
    {
     "data": {
      "text/html": [
       "<div>\n",
       "<style scoped>\n",
       "    .dataframe tbody tr th:only-of-type {\n",
       "        vertical-align: middle;\n",
       "    }\n",
       "\n",
       "    .dataframe tbody tr th {\n",
       "        vertical-align: top;\n",
       "    }\n",
       "\n",
       "    .dataframe thead th {\n",
       "        text-align: right;\n",
       "    }\n",
       "</style>\n",
       "<table border=\"1\" class=\"dataframe\">\n",
       "  <thead>\n",
       "    <tr style=\"text-align: right;\">\n",
       "      <th></th>\n",
       "      <th>Structure Title</th>\n",
       "      <th>Resolution</th>\n",
       "      <th>Ligand ID</th>\n",
       "      <th>Ligand Name</th>\n",
       "    </tr>\n",
       "  </thead>\n",
       "  <tbody>\n",
       "    <tr>\n",
       "      <th>0</th>\n",
       "      <td>CRYSTALLOGRAPHIC ANALYSIS OF C-C-A-A-G-C-T-T-G...</td>\n",
       "      <td>1.9</td>\n",
       "      <td>CA</td>\n",
       "      <td>CALCIUM ION</td>\n",
       "    </tr>\n",
       "    <tr>\n",
       "      <th>1</th>\n",
       "      <td>CRYSTALLOGRAPHIC ANALYSIS OF C-C-A-A-G-C-T-T-G...</td>\n",
       "      <td>1.9</td>\n",
       "      <td>CA</td>\n",
       "      <td>CALCIUM ION</td>\n",
       "    </tr>\n",
       "    <tr>\n",
       "      <th>2</th>\n",
       "      <td>CRYSTAL STRUCTURE OF C-T-C-T-C-G-A-G-A-G: IMPL...</td>\n",
       "      <td>1.7</td>\n",
       "      <td>CA</td>\n",
       "      <td>CALCIUM ION</td>\n",
       "    </tr>\n",
       "    <tr>\n",
       "      <th>3</th>\n",
       "      <td>CRYSTAL STRUCTURE OF C-T-C-T-C-G-A-G-A-G: IMPL...</td>\n",
       "      <td>1.7</td>\n",
       "      <td>CA</td>\n",
       "      <td>CALCIUM ION</td>\n",
       "    </tr>\n",
       "    <tr>\n",
       "      <th>4</th>\n",
       "      <td>CRYSTAL STRUCTURE OF A NON-PSYCHROPHILIC TRYPS...</td>\n",
       "      <td>1.7</td>\n",
       "      <td>CA</td>\n",
       "      <td>CALCIUM ION</td>\n",
       "    </tr>\n",
       "    <tr>\n",
       "      <th>...</th>\n",
       "      <td>...</td>\n",
       "      <td>...</td>\n",
       "      <td>...</td>\n",
       "      <td>...</td>\n",
       "    </tr>\n",
       "    <tr>\n",
       "      <th>55488</th>\n",
       "      <td>NaN</td>\n",
       "      <td>NaN</td>\n",
       "      <td>NaN</td>\n",
       "      <td>NaN</td>\n",
       "    </tr>\n",
       "    <tr>\n",
       "      <th>55489</th>\n",
       "      <td>NaN</td>\n",
       "      <td>NaN</td>\n",
       "      <td>NaN</td>\n",
       "      <td>NaN</td>\n",
       "    </tr>\n",
       "    <tr>\n",
       "      <th>55490</th>\n",
       "      <td>NaN</td>\n",
       "      <td>NaN</td>\n",
       "      <td>NaN</td>\n",
       "      <td>NaN</td>\n",
       "    </tr>\n",
       "    <tr>\n",
       "      <th>55491</th>\n",
       "      <td>NaN</td>\n",
       "      <td>NaN</td>\n",
       "      <td>NaN</td>\n",
       "      <td>NaN</td>\n",
       "    </tr>\n",
       "    <tr>\n",
       "      <th>55492</th>\n",
       "      <td>NaN</td>\n",
       "      <td>NaN</td>\n",
       "      <td>NaN</td>\n",
       "      <td>NaN</td>\n",
       "    </tr>\n",
       "  </tbody>\n",
       "</table>\n",
       "<p>55493 rows × 4 columns</p>\n",
       "</div>"
      ],
      "text/plain": [
       "                                         Structure Title  Resolution  \\\n",
       "0      CRYSTALLOGRAPHIC ANALYSIS OF C-C-A-A-G-C-T-T-G...         1.9   \n",
       "1      CRYSTALLOGRAPHIC ANALYSIS OF C-C-A-A-G-C-T-T-G...         1.9   \n",
       "2      CRYSTAL STRUCTURE OF C-T-C-T-C-G-A-G-A-G: IMPL...         1.7   \n",
       "3      CRYSTAL STRUCTURE OF C-T-C-T-C-G-A-G-A-G: IMPL...         1.7   \n",
       "4      CRYSTAL STRUCTURE OF A NON-PSYCHROPHILIC TRYPS...         1.7   \n",
       "...                                                  ...         ...   \n",
       "55488                                                NaN         NaN   \n",
       "55489                                                NaN         NaN   \n",
       "55490                                                NaN         NaN   \n",
       "55491                                                NaN         NaN   \n",
       "55492                                                NaN         NaN   \n",
       "\n",
       "      Ligand ID  Ligand Name  \n",
       "0            CA  CALCIUM ION  \n",
       "1            CA  CALCIUM ION  \n",
       "2            CA  CALCIUM ION  \n",
       "3            CA  CALCIUM ION  \n",
       "4            CA  CALCIUM ION  \n",
       "...         ...          ...  \n",
       "55488       NaN          NaN  \n",
       "55489       NaN          NaN  \n",
       "55490       NaN          NaN  \n",
       "55491       NaN          NaN  \n",
       "55492       NaN          NaN  \n",
       "\n",
       "[55493 rows x 4 columns]"
      ]
     },
     "execution_count": 38,
     "metadata": {},
     "output_type": "execute_result"
    }
   ],
   "source": [
    "datos_pdb.iloc[:,2:6]"
   ]
  },
  {
   "cell_type": "markdown",
   "metadata": {},
   "source": [
    "#### ¿Cómo calcular las estadísticas de resumen?\n",
    "\n",
    "Las estadísticas básicas (media, mediana, mín., máx., recuentos...) son fácilmente calculables. Estas agregaciones o las personalizadas se pueden aplicar en todo el conjunto de datos, en una ventana deslizante de los datos o agrupados por categorías. Este último también se conoce como el enfoque de división, aplicación y combinación."
   ]
  },
  {
   "cell_type": "code",
   "execution_count": null,
   "metadata": {},
   "outputs": [],
   "source": []
  },
  {
   "cell_type": "markdown",
   "metadata": {},
   "source": [
    "📝 **Consigna 5:** ¿Cómo podríamos resumir la información de la tabla? ¿Es posible hacer una descripción de los datos numéricos y categóricos?"
   ]
  },
  {
   "cell_type": "code",
   "execution_count": 37,
   "metadata": {},
   "outputs": [
    {
     "data": {
      "text/html": [
       "<div>\n",
       "<style scoped>\n",
       "    .dataframe tbody tr th:only-of-type {\n",
       "        vertical-align: middle;\n",
       "    }\n",
       "\n",
       "    .dataframe tbody tr th {\n",
       "        vertical-align: top;\n",
       "    }\n",
       "\n",
       "    .dataframe thead th {\n",
       "        text-align: right;\n",
       "    }\n",
       "</style>\n",
       "<table border=\"1\" class=\"dataframe\">\n",
       "  <thead>\n",
       "    <tr style=\"text-align: right;\">\n",
       "      <th></th>\n",
       "      <th>Resolution</th>\n",
       "      <th>doble_resolucion</th>\n",
       "    </tr>\n",
       "  </thead>\n",
       "  <tbody>\n",
       "    <tr>\n",
       "      <th>count</th>\n",
       "      <td>19930.000000</td>\n",
       "      <td>19930.000000</td>\n",
       "    </tr>\n",
       "    <tr>\n",
       "      <th>mean</th>\n",
       "      <td>2.257431</td>\n",
       "      <td>9.029724</td>\n",
       "    </tr>\n",
       "    <tr>\n",
       "      <th>std</th>\n",
       "      <td>1.134987</td>\n",
       "      <td>4.539949</td>\n",
       "    </tr>\n",
       "    <tr>\n",
       "      <th>min</th>\n",
       "      <td>0.610000</td>\n",
       "      <td>2.440000</td>\n",
       "    </tr>\n",
       "    <tr>\n",
       "      <th>25%</th>\n",
       "      <td>1.800000</td>\n",
       "      <td>7.200000</td>\n",
       "    </tr>\n",
       "    <tr>\n",
       "      <th>50%</th>\n",
       "      <td>2.100000</td>\n",
       "      <td>8.400000</td>\n",
       "    </tr>\n",
       "    <tr>\n",
       "      <th>75%</th>\n",
       "      <td>2.500000</td>\n",
       "      <td>10.000000</td>\n",
       "    </tr>\n",
       "    <tr>\n",
       "      <th>max</th>\n",
       "      <td>30.000000</td>\n",
       "      <td>120.000000</td>\n",
       "    </tr>\n",
       "  </tbody>\n",
       "</table>\n",
       "</div>"
      ],
      "text/plain": [
       "         Resolution  doble_resolucion\n",
       "count  19930.000000      19930.000000\n",
       "mean       2.257431          9.029724\n",
       "std        1.134987          4.539949\n",
       "min        0.610000          2.440000\n",
       "25%        1.800000          7.200000\n",
       "50%        2.100000          8.400000\n",
       "75%        2.500000         10.000000\n",
       "max       30.000000        120.000000"
      ]
     },
     "execution_count": 37,
     "metadata": {},
     "output_type": "execute_result"
    }
   ],
   "source": [
    "datos_pdb.describe()"
   ]
  },
  {
   "cell_type": "markdown",
   "metadata": {},
   "source": [
    "#### ¿Cómo remodelar el diseño de las tablas?\n",
    "\n",
    "Cambie la estructura de su tabla de datos de múltiples maneras. Puede derretir () su tabla de datos de forma ancha a larga/ordenada o girar () de formato largo a ancho. Con las agregaciones integradas, se crea una tabla dinámica con un solo comando.\n",
    "\n",
    "[Doc-reshaping](http://pandas.pydata.org/docs/user_guide/reshaping.html)"
   ]
  },
  {
   "cell_type": "markdown",
   "metadata": {},
   "source": [
    "📝 **Consigna 6:** Si tenés varias categorias en distintas columnas, ¿cómo harías un stacking de los datos?"
   ]
  },
  {
   "cell_type": "code",
   "execution_count": null,
   "metadata": {},
   "outputs": [],
   "source": []
  },
  {
   "cell_type": "markdown",
   "metadata": {},
   "source": [
    "#### ¿Cómo combinar datos de varias tablas?\n",
    "\n",
    "Se pueden concatenar varias tablas tanto en columnas como en filas, ya que se proporcionan operaciones de unión/fusión similares a las de una base de datos para combinar varias tablas de datos.\n",
    "\n",
    "[Doc](http://pandas.pydata.org/docs/user_guide/merging.html)"
   ]
  },
  {
   "cell_type": "markdown",
   "metadata": {},
   "source": [
    "📝 **Consigna 7:** ¿Cómo harían si tuvieran agregar una segunda tabla que comparte las mismas columnas? ¿Y si comparten algunas filas?"
   ]
  },
  {
   "cell_type": "code",
   "execution_count": null,
   "metadata": {},
   "outputs": [],
   "source": []
  },
  {
   "cell_type": "markdown",
   "metadata": {},
   "source": [
    "#### ¿Cómo manejar datos de series temporales?\n",
    "\n",
    "pandas tiene un gran soporte para series temporales y tiene un amplio conjunto de herramientas para trabajar con fechas, horas y datos indexados por tiempo.\n",
    "\n",
    "[Doc](http://pandas.pydata.org/docs/user_guide/timeseries.html)"
   ]
  },
  {
   "cell_type": "markdown",
   "metadata": {},
   "source": [
    "📝 **Consigna 8:** Agregar una columna con la diferencia de días entre dos fechas"
   ]
  },
  {
   "cell_type": "code",
   "execution_count": null,
   "metadata": {},
   "outputs": [],
   "source": []
  },
  {
   "cell_type": "markdown",
   "metadata": {},
   "source": [
    "#### ¿Cómo manipular datos textuales?\n",
    "\n",
    "Los conjuntos de datos no solo contienen datos numéricos. pandas proporciona una amplia gama de funciones para limpiar datos textuales y extraer información útil de ellos.\n",
    "\n",
    "[Doc-Text](http://pandas.pydata.org/docs/user_guide/text.html)\n",
    "\n",
    "[Doc-Categorical data](http://pandas.pydata.org/docs/user_guide/categorical.html)"
   ]
  },
  {
   "cell_type": "markdown",
   "metadata": {},
   "source": [
    "📝 **Consigna 9:** ¿Cómo podés describir y organizar datos que son categóricos o no numéricos?"
   ]
  },
  {
   "cell_type": "code",
   "execution_count": null,
   "metadata": {},
   "outputs": [],
   "source": []
  },
  {
   "cell_type": "code",
   "execution_count": null,
   "metadata": {},
   "outputs": [],
   "source": []
  }
 ],
 "metadata": {
  "kernelspec": {
   "display_name": "Python 3",
   "language": "python",
   "name": "python3"
  },
  "language_info": {
   "codemirror_mode": {
    "name": "ipython",
    "version": 3
   },
   "file_extension": ".py",
   "mimetype": "text/x-python",
   "name": "python",
   "nbconvert_exporter": "python",
   "pygments_lexer": "ipython3",
   "version": "3.8.10"
  }
 },
 "nbformat": 4,
 "nbformat_minor": 2
}
