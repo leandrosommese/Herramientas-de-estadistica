{
 "cells": [
  {
   "attachments": {},
   "cell_type": "markdown",
   "metadata": {},
   "source": [
    "**PANDAS** es una herramienta de análisis y manipulación de datos de código abierto rápida, potente, flexible y fácil de usar, construido sobre el lenguaje de programación Python."
   ]
  },
  {
   "attachments": {},
   "cell_type": "markdown",
   "metadata": {},
   "source": [
    "# INSTALACIÓN\n",
    "\n",
    "**Anaconda**\n",
    "\n",
    "pandas es parte de la distribución de Anaconda y puede ser instalado usando:\n",
    "```bash\n",
    "conda install pandas\n",
    "```\n",
    "**PIP**\n",
    "\n",
    "pandas puede ser instalado via pip desde [PyPI](https://pypi.org/project/pandas/)\n",
    "```bash\n",
    "pip install pandas\n",
    "```"
   ]
  },
  {
   "attachments": {},
   "cell_type": "markdown",
   "metadata": {},
   "source": [
    "La obtener información sobre todo lo que puede hacerse con pandas se puede buscar en la [documentación](https://pandas.pydata.org/docs)."
   ]
  },
  {
   "attachments": {},
   "cell_type": "markdown",
   "metadata": {},
   "source": [
    "¿Qué tipo de datos maneja?\n",
    "\n",
    "pandas trabaja con datos tabulados, como datos almacenados en hojas de cálculo o bases de datos. pandas ayuda a explorar, limpiar y procesar datos. En pandas, una tabla de datos se llama DataFrame."
   ]
  },
  {
   "cell_type": "code",
   "execution_count": 2,
   "metadata": {},
   "outputs": [],
   "source": [
    "# Para usar la bilbioteca debemos comenzar el script importándola\n",
    "import pandas as pd"
   ]
  },
  {
   "cell_type": "code",
   "execution_count": 4,
   "metadata": {},
   "outputs": [
    {
     "name": "stdout",
     "output_type": "stream",
     "text": [
      "   col1  col2\n",
      "0     1     3\n",
      "1     2     4\n"
     ]
    }
   ],
   "source": [
    "# Crear dataframe a partir de diccionario\n",
    "\n",
    "diccionario = {'col1': [1, 2], 'col2': [3, 4]}\n",
    "df = pd.DataFrame(data=diccionario)\n",
    "print(df)"
   ]
  },
  {
   "cell_type": "code",
   "execution_count": 6,
   "metadata": {},
   "outputs": [
    {
     "name": "stdout",
     "output_type": "stream",
     "text": [
      "   a  b  c\n",
      "0  1  2  3\n",
      "1  4  5  6\n",
      "2  7  8  9\n"
     ]
    }
   ],
   "source": [
    "# Crear dataframe a partir de numpy array\n",
    "\n",
    "import numpy as np\n",
    "\n",
    "df2 = pd.DataFrame(np.array([[1, 2, 3], [4, 5, 6], [7, 8, 9]]),columns=['a', 'b', 'c'])\n",
    "print(df2)"
   ]
  },
  {
   "attachments": {},
   "cell_type": "markdown",
   "metadata": {},
   "source": [
    "#### ¿Cómo leo y escribo datos tabulares?\n",
    "\n",
    "pandas admite la integración con muchos formatos de archivo o fuentes de datos listos para usar (csv, excel, sql, json, parquet,...).\n",
    "La función con el prefijo read_* proporciona la importación de datos de cada una de estas fuentes de datos. De manera similar, los métodos to_* se utilizan para almacenar datos."
   ]
  },
  {
   "attachments": {},
   "cell_type": "markdown",
   "metadata": {},
   "source": [
    "📝 **Consigna 1:** Les propongo cargar una tabla propia a partir de un archivo ¿cómo harían para visualizar las primeras 3 filas de su tabla? "
   ]
  },
  {
   "cell_type": "code",
   "execution_count": 4,
   "metadata": {},
   "outputs": [
    {
     "data": {
      "text/html": [
       "<div>\n",
       "<style scoped>\n",
       "    .dataframe tbody tr th:only-of-type {\n",
       "        vertical-align: middle;\n",
       "    }\n",
       "\n",
       "    .dataframe tbody tr th {\n",
       "        vertical-align: top;\n",
       "    }\n",
       "\n",
       "    .dataframe thead th {\n",
       "        text-align: right;\n",
       "    }\n",
       "</style>\n",
       "<table border=\"1\" class=\"dataframe\">\n",
       "  <thead>\n",
       "    <tr style=\"text-align: right;\">\n",
       "      <th></th>\n",
       "      <th>PDB ID</th>\n",
       "      <th>Chain ID</th>\n",
       "      <th>Structure Title</th>\n",
       "      <th>Resolution</th>\n",
       "      <th>Ligand ID</th>\n",
       "      <th>Ligand Name</th>\n",
       "      <th>Macromolecule Name</th>\n",
       "      <th>Taxonomy ID</th>\n",
       "      <th>Ka (1/M)</th>\n",
       "    </tr>\n",
       "  </thead>\n",
       "  <tbody>\n",
       "    <tr>\n",
       "      <th>0</th>\n",
       "      <td>158D</td>\n",
       "      <td>A</td>\n",
       "      <td>CRYSTALLOGRAPHIC ANALYSIS OF C-C-A-A-G-C-T-T-G...</td>\n",
       "      <td>1.9</td>\n",
       "      <td>CA</td>\n",
       "      <td>CALCIUM ION</td>\n",
       "      <td>DNA (5'-D(*CP*CP*AP*AP*GP*CP*TP*TP*GP*G)-3')</td>\n",
       "      <td>NaN</td>\n",
       "      <td>NaN</td>\n",
       "    </tr>\n",
       "    <tr>\n",
       "      <th>1</th>\n",
       "      <td>158D</td>\n",
       "      <td>B</td>\n",
       "      <td>CRYSTALLOGRAPHIC ANALYSIS OF C-C-A-A-G-C-T-T-G...</td>\n",
       "      <td>1.9</td>\n",
       "      <td>CA</td>\n",
       "      <td>CALCIUM ION</td>\n",
       "      <td>DNA (5'-D(*CP*CP*AP*AP*GP*CP*TP*TP*GP*G)-3')</td>\n",
       "      <td>NaN</td>\n",
       "      <td>NaN</td>\n",
       "    </tr>\n",
       "    <tr>\n",
       "      <th>2</th>\n",
       "      <td>196D</td>\n",
       "      <td>A</td>\n",
       "      <td>CRYSTAL STRUCTURE OF C-T-C-T-C-G-A-G-A-G: IMPL...</td>\n",
       "      <td>1.7</td>\n",
       "      <td>CA</td>\n",
       "      <td>CALCIUM ION</td>\n",
       "      <td>DNA (5'-D(*CP*TP*CP*TP*CP*GP*AP*GP*AP*G)-3')</td>\n",
       "      <td>NaN</td>\n",
       "      <td>NaN</td>\n",
       "    </tr>\n",
       "    <tr>\n",
       "      <th>3</th>\n",
       "      <td>196D</td>\n",
       "      <td>B</td>\n",
       "      <td>CRYSTAL STRUCTURE OF C-T-C-T-C-G-A-G-A-G: IMPL...</td>\n",
       "      <td>1.7</td>\n",
       "      <td>CA</td>\n",
       "      <td>CALCIUM ION</td>\n",
       "      <td>DNA (5'-D(*CP*TP*CP*TP*CP*GP*AP*GP*AP*G)-3')</td>\n",
       "      <td>NaN</td>\n",
       "      <td>NaN</td>\n",
       "    </tr>\n",
       "    <tr>\n",
       "      <th>4</th>\n",
       "      <td>1A0J</td>\n",
       "      <td>A</td>\n",
       "      <td>CRYSTAL STRUCTURE OF A NON-PSYCHROPHILIC TRYPS...</td>\n",
       "      <td>1.7</td>\n",
       "      <td>CA</td>\n",
       "      <td>CALCIUM ION</td>\n",
       "      <td>TRYPSIN</td>\n",
       "      <td>8030</td>\n",
       "      <td>NaN</td>\n",
       "    </tr>\n",
       "  </tbody>\n",
       "</table>\n",
       "</div>"
      ],
      "text/plain": [
       "  PDB ID Chain ID                                    Structure Title  \\\n",
       "0   158D        A  CRYSTALLOGRAPHIC ANALYSIS OF C-C-A-A-G-C-T-T-G...   \n",
       "1   158D        B  CRYSTALLOGRAPHIC ANALYSIS OF C-C-A-A-G-C-T-T-G...   \n",
       "2   196D        A  CRYSTAL STRUCTURE OF C-T-C-T-C-G-A-G-A-G: IMPL...   \n",
       "3   196D        B  CRYSTAL STRUCTURE OF C-T-C-T-C-G-A-G-A-G: IMPL...   \n",
       "4   1A0J        A  CRYSTAL STRUCTURE OF A NON-PSYCHROPHILIC TRYPS...   \n",
       "\n",
       "   Resolution Ligand ID  Ligand Name  \\\n",
       "0         1.9        CA  CALCIUM ION   \n",
       "1         1.9        CA  CALCIUM ION   \n",
       "2         1.7        CA  CALCIUM ION   \n",
       "3         1.7        CA  CALCIUM ION   \n",
       "4         1.7        CA  CALCIUM ION   \n",
       "\n",
       "                             Macromolecule Name Taxonomy ID  Ka (1/M)  \n",
       "0  DNA (5'-D(*CP*CP*AP*AP*GP*CP*TP*TP*GP*G)-3')         NaN       NaN  \n",
       "1  DNA (5'-D(*CP*CP*AP*AP*GP*CP*TP*TP*GP*G)-3')         NaN       NaN  \n",
       "2  DNA (5'-D(*CP*TP*CP*TP*CP*GP*AP*GP*AP*G)-3')         NaN       NaN  \n",
       "3  DNA (5'-D(*CP*TP*CP*TP*CP*GP*AP*GP*AP*G)-3')         NaN       NaN  \n",
       "4                                       TRYPSIN        8030       NaN  "
      ]
     },
     "execution_count": 4,
     "metadata": {},
     "output_type": "execute_result"
    }
   ],
   "source": [
    "path = '/home/lean/Documentos/Lean/Estadistica/Manejo de Datos en Biología Computacional. Herramientas de Estadística/Herramientas-de-estadistica/Tablas/pdb_con_calcio.csv'\n",
    "datos_pdb = pd.read_csv(path,sep=';')\n",
    "datos_pdb.head()"
   ]
  },
  {
   "attachments": {},
   "cell_type": "markdown",
   "metadata": {},
   "source": [
    "#### ¿Cómo selecciono un subconjunto de una tabla?\n",
    "\n",
    "Los métodos para dividir, seleccionar, filtrar y extraer los datos que necesita están disponibles en pandas.\n",
    "\n",
    "[Doc](http://pandas.pydata.org/docs/user_guide/indexing.html)"
   ]
  },
  {
   "attachments": {},
   "cell_type": "markdown",
   "metadata": {},
   "source": [
    "📝 **Consigna 2:** Me gustaría quedarme solo con un tipo de dato para trabajar ¿cómo harías para extraer los valores de una columna usando otra para filtrar?¿qué sucede si intentamos reindexar la tabla? "
   ]
  },
  {
   "cell_type": "code",
   "execution_count": 34,
   "metadata": {},
   "outputs": [],
   "source": [
    "df2 = datos_pdb[datos_pdb['PDB ID']=='196D']"
   ]
  },
  {
   "cell_type": "code",
   "execution_count": 39,
   "metadata": {},
   "outputs": [
    {
     "data": {
      "text/html": [
       "<div>\n",
       "<style scoped>\n",
       "    .dataframe tbody tr th:only-of-type {\n",
       "        vertical-align: middle;\n",
       "    }\n",
       "\n",
       "    .dataframe tbody tr th {\n",
       "        vertical-align: top;\n",
       "    }\n",
       "\n",
       "    .dataframe thead th {\n",
       "        text-align: right;\n",
       "    }\n",
       "</style>\n",
       "<table border=\"1\" class=\"dataframe\">\n",
       "  <thead>\n",
       "    <tr style=\"text-align: right;\">\n",
       "      <th></th>\n",
       "      <th>PDB ID</th>\n",
       "      <th>Chain ID</th>\n",
       "      <th>Structure Title</th>\n",
       "      <th>Resolution</th>\n",
       "      <th>Ligand Name</th>\n",
       "      <th>Macromolecule Name</th>\n",
       "      <th>Taxonomy ID</th>\n",
       "      <th>Ka (1/M)</th>\n",
       "    </tr>\n",
       "    <tr>\n",
       "      <th>Ligand ID</th>\n",
       "      <th></th>\n",
       "      <th></th>\n",
       "      <th></th>\n",
       "      <th></th>\n",
       "      <th></th>\n",
       "      <th></th>\n",
       "      <th></th>\n",
       "      <th></th>\n",
       "    </tr>\n",
       "  </thead>\n",
       "  <tbody>\n",
       "    <tr>\n",
       "      <th>CA</th>\n",
       "      <td>196D</td>\n",
       "      <td>A</td>\n",
       "      <td>CRYSTAL STRUCTURE OF C-T-C-T-C-G-A-G-A-G: IMPL...</td>\n",
       "      <td>1.7</td>\n",
       "      <td>CALCIUM ION</td>\n",
       "      <td>DNA (5'-D(*CP*TP*CP*TP*CP*GP*AP*GP*AP*G)-3')</td>\n",
       "      <td>NaN</td>\n",
       "      <td>NaN</td>\n",
       "    </tr>\n",
       "    <tr>\n",
       "      <th>CA</th>\n",
       "      <td>196D</td>\n",
       "      <td>B</td>\n",
       "      <td>CRYSTAL STRUCTURE OF C-T-C-T-C-G-A-G-A-G: IMPL...</td>\n",
       "      <td>1.7</td>\n",
       "      <td>CALCIUM ION</td>\n",
       "      <td>DNA (5'-D(*CP*TP*CP*TP*CP*GP*AP*GP*AP*G)-3')</td>\n",
       "      <td>NaN</td>\n",
       "      <td>NaN</td>\n",
       "    </tr>\n",
       "  </tbody>\n",
       "</table>\n",
       "</div>"
      ],
      "text/plain": [
       "          PDB ID Chain ID                                    Structure Title  \\\n",
       "Ligand ID                                                                      \n",
       "CA          196D        A  CRYSTAL STRUCTURE OF C-T-C-T-C-G-A-G-A-G: IMPL...   \n",
       "CA          196D        B  CRYSTAL STRUCTURE OF C-T-C-T-C-G-A-G-A-G: IMPL...   \n",
       "\n",
       "           Resolution  Ligand Name  \\\n",
       "Ligand ID                            \n",
       "CA                1.7  CALCIUM ION   \n",
       "CA                1.7  CALCIUM ION   \n",
       "\n",
       "                                     Macromolecule Name Taxonomy ID  Ka (1/M)  \n",
       "Ligand ID                                                                      \n",
       "CA         DNA (5'-D(*CP*TP*CP*TP*CP*GP*AP*GP*AP*G)-3')         NaN       NaN  \n",
       "CA         DNA (5'-D(*CP*TP*CP*TP*CP*GP*AP*GP*AP*G)-3')         NaN       NaN  "
      ]
     },
     "execution_count": 39,
     "metadata": {},
     "output_type": "execute_result"
    }
   ],
   "source": [
    "df2.set_index('Ligand ID')"
   ]
  },
  {
   "attachments": {},
   "cell_type": "markdown",
   "metadata": {},
   "source": [
    "#### ¿Cómo crear tramas en pandas?\n",
    "\n",
    "pandas proporciona trazar sus datos de forma inmediata, utilizando el poder de Matplotlib. Puede elegir el tipo de gráfico (dispersión, barra, diagrama de caja,...) correspondiente a sus datos.\n",
    "\n",
    "[Doc-matplotlib](https://matplotlib.org/)\n",
    "\n",
    "[Doc-pandas visualization](http://pandas.pydata.org/docs/user_guide/visualization.html/)"
   ]
  },
  {
   "attachments": {},
   "cell_type": "markdown",
   "metadata": {},
   "source": [
    "📝 **Consigna 3:** Antes de trabajar sobre la tabla nos gustaría visualizar los datos de forma clara ¿cómo graficaría los datos que tenés? ¿qué tendrías en cuenta para eso?"
   ]
  },
  {
   "cell_type": "code",
   "execution_count": null,
   "metadata": {},
   "outputs": [],
   "source": []
  },
  {
   "attachments": {},
   "cell_type": "markdown",
   "metadata": {},
   "source": [
    "#### ¿Cómo crear nuevas columnas derivadas de columnas existentes?\n",
    "\n",
    "No hay necesidad de recorrer todas las filas de su tabla de datos para hacer cálculos. Las manipulaciones de datos en una columna funcionan por elementos. Agregar una columna a un DataFrame en función de los datos existentes en otras columnas es sencillo."
   ]
  },
  {
   "attachments": {},
   "cell_type": "markdown",
   "metadata": {},
   "source": [
    "📝 **Consigna 4:** Deseo hacer una operación sobre una columna existente y poner ese resultado en una nueva columna ¿cómo harías?"
   ]
  },
  {
   "cell_type": "code",
   "execution_count": null,
   "metadata": {},
   "outputs": [],
   "source": []
  },
  {
   "attachments": {},
   "cell_type": "markdown",
   "metadata": {},
   "source": [
    "#### ¿Cómo calcular las estadísticas de resumen?\n",
    "\n",
    "Las estadísticas básicas (media, mediana, mín., máx., recuentos...) son fácilmente calculables. Estas agregaciones o las personalizadas se pueden aplicar en todo el conjunto de datos, en una ventana deslizante de los datos o agrupados por categorías. Este último también se conoce como el enfoque de división, aplicación y combinación."
   ]
  },
  {
   "attachments": {},
   "cell_type": "markdown",
   "metadata": {},
   "source": [
    "📝 **Consigna 5:** ¿Cómo podríamos resumir la información de la tabla? ¿Es posible hacer una descripción de los datos numéricos y categóricos?"
   ]
  },
  {
   "cell_type": "code",
   "execution_count": 42,
   "metadata": {},
   "outputs": [
    {
     "data": {
      "text/html": [
       "<div>\n",
       "<style scoped>\n",
       "    .dataframe tbody tr th:only-of-type {\n",
       "        vertical-align: middle;\n",
       "    }\n",
       "\n",
       "    .dataframe tbody tr th {\n",
       "        vertical-align: top;\n",
       "    }\n",
       "\n",
       "    .dataframe thead th {\n",
       "        text-align: right;\n",
       "    }\n",
       "</style>\n",
       "<table border=\"1\" class=\"dataframe\">\n",
       "  <thead>\n",
       "    <tr style=\"text-align: right;\">\n",
       "      <th></th>\n",
       "      <th>Resolution</th>\n",
       "      <th>Ka (1/M)</th>\n",
       "    </tr>\n",
       "  </thead>\n",
       "  <tbody>\n",
       "    <tr>\n",
       "      <th>count</th>\n",
       "      <td>19930.000000</td>\n",
       "      <td>0.0</td>\n",
       "    </tr>\n",
       "    <tr>\n",
       "      <th>mean</th>\n",
       "      <td>2.257431</td>\n",
       "      <td>NaN</td>\n",
       "    </tr>\n",
       "    <tr>\n",
       "      <th>std</th>\n",
       "      <td>1.134987</td>\n",
       "      <td>NaN</td>\n",
       "    </tr>\n",
       "    <tr>\n",
       "      <th>min</th>\n",
       "      <td>0.610000</td>\n",
       "      <td>NaN</td>\n",
       "    </tr>\n",
       "    <tr>\n",
       "      <th>25%</th>\n",
       "      <td>1.800000</td>\n",
       "      <td>NaN</td>\n",
       "    </tr>\n",
       "    <tr>\n",
       "      <th>50%</th>\n",
       "      <td>2.100000</td>\n",
       "      <td>NaN</td>\n",
       "    </tr>\n",
       "    <tr>\n",
       "      <th>75%</th>\n",
       "      <td>2.500000</td>\n",
       "      <td>NaN</td>\n",
       "    </tr>\n",
       "    <tr>\n",
       "      <th>max</th>\n",
       "      <td>30.000000</td>\n",
       "      <td>NaN</td>\n",
       "    </tr>\n",
       "  </tbody>\n",
       "</table>\n",
       "</div>"
      ],
      "text/plain": [
       "         Resolution  Ka (1/M)\n",
       "count  19930.000000       0.0\n",
       "mean       2.257431       NaN\n",
       "std        1.134987       NaN\n",
       "min        0.610000       NaN\n",
       "25%        1.800000       NaN\n",
       "50%        2.100000       NaN\n",
       "75%        2.500000       NaN\n",
       "max       30.000000       NaN"
      ]
     },
     "execution_count": 42,
     "metadata": {},
     "output_type": "execute_result"
    }
   ],
   "source": [
    "datos_pdb.describe()"
   ]
  },
  {
   "attachments": {},
   "cell_type": "markdown",
   "metadata": {},
   "source": [
    "#### ¿Cómo remodelar el diseño de las tablas?\n",
    "\n",
    "Cambie la estructura de su tabla de datos de múltiples maneras. Puede derretir () su tabla de datos de forma ancha a larga/ordenada o girar () de formato largo a ancho. Con las agregaciones integradas, se crea una tabla dinámica con un solo comando.\n",
    "\n",
    "[Doc-reshaping](http://pandas.pydata.org/docs/user_guide/reshaping.html)"
   ]
  },
  {
   "attachments": {},
   "cell_type": "markdown",
   "metadata": {},
   "source": [
    "📝 **Consigna 6:** Si tenés varias categorias en distintas columnas, ¿cómo harías un stacking de los datos?"
   ]
  },
  {
   "cell_type": "code",
   "execution_count": null,
   "metadata": {},
   "outputs": [],
   "source": []
  },
  {
   "attachments": {},
   "cell_type": "markdown",
   "metadata": {},
   "source": [
    "#### ¿Cómo combinar datos de varias tablas?\n",
    "\n",
    "Se pueden concatenar varias tablas tanto en columnas como en filas, ya que se proporcionan operaciones de unión/fusión similares a las de una base de datos para combinar varias tablas de datos.\n",
    "\n",
    "[Doc](http://pandas.pydata.org/docs/user_guide/merging.html)"
   ]
  },
  {
   "attachments": {},
   "cell_type": "markdown",
   "metadata": {},
   "source": [
    "📝 **Consigna 7:** ¿Cómo harían si tuvieran agregar una segunda tabla que comparte las mismas columnas? ¿Y si comparten algunas filas?"
   ]
  },
  {
   "cell_type": "code",
   "execution_count": null,
   "metadata": {},
   "outputs": [],
   "source": []
  },
  {
   "attachments": {},
   "cell_type": "markdown",
   "metadata": {},
   "source": [
    "#### ¿Cómo manejar datos de series temporales?\n",
    "\n",
    "pandas tiene un gran soporte para series temporales y tiene un amplio conjunto de herramientas para trabajar con fechas, horas y datos indexados por tiempo.\n",
    "\n",
    "[Doc](http://pandas.pydata.org/docs/user_guide/timeseries.html)"
   ]
  },
  {
   "attachments": {},
   "cell_type": "markdown",
   "metadata": {},
   "source": [
    "📝 **Consigna 8:** Agregar una columna con la diferencia de días entre dos fechas"
   ]
  },
  {
   "cell_type": "code",
   "execution_count": null,
   "metadata": {},
   "outputs": [],
   "source": []
  },
  {
   "attachments": {},
   "cell_type": "markdown",
   "metadata": {},
   "source": [
    "#### ¿Cómo manipular datos textuales?\n",
    "\n",
    "Los conjuntos de datos no solo contienen datos numéricos. pandas proporciona una amplia gama de funciones para limpiar datos textuales y extraer información útil de ellos.\n",
    "\n",
    "[Doc-Text](http://pandas.pydata.org/docs/user_guide/text.html)\n",
    "\n",
    "[Doc-Categorical data](http://pandas.pydata.org/docs/user_guide/categorical.html)"
   ]
  },
  {
   "attachments": {},
   "cell_type": "markdown",
   "metadata": {},
   "source": [
    "📝 **Consigna 9:** ¿Cómo podés describir y organizar datos que son categóricos o no numéricos?"
   ]
  },
  {
   "cell_type": "code",
   "execution_count": null,
   "metadata": {},
   "outputs": [],
   "source": []
  }
 ],
 "metadata": {
  "kernelspec": {
   "display_name": "Python 3",
   "language": "python",
   "name": "python3"
  },
  "language_info": {
   "codemirror_mode": {
    "name": "ipython",
    "version": 3
   },
   "file_extension": ".py",
   "mimetype": "text/x-python",
   "name": "python",
   "nbconvert_exporter": "python",
   "pygments_lexer": "ipython3",
   "version": "3.8.10"
  },
  "orig_nbformat": 4
 },
 "nbformat": 4,
 "nbformat_minor": 2
}
