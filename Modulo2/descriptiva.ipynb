{
 "cells": [
  {
   "attachments": {},
   "cell_type": "markdown",
   "metadata": {},
   "source": [
    "La aplicación del tratamiento estadı́stico tiene dos fases fundamentales:\n",
    "\n",
    "1. Organización y análisis inicial de los datos recogidos.\n",
    "2. Extracción de conclusiones válidas y toma de decisiones razonables a partir de ellos.\n",
    "\n",
    "Los objetivos de la Estadı́stica Descriptiva son los que se abordan en la primera de estas fases. Es decir, su misión es ordenar, describir y sintetizar la información recogida. En este proceso será necesario establecer medidas cuantitativas que reduzcan a un número manejable de parámetros el conjunto (en general grande) de datos obtenidos.\n",
    "La realización de gráficas (visualización de los datos en diagramas) también forma parte de la Estadı́stica Descriptiva dado que proporciona una manera visual directa de organizar la información.\n",
    "La finalidad de la Estadı́stica Descriptiva no es, entonces, extraer conclusiones generales sobre el fenómeno que ha producido los datos bajo estudio, sino solamente su descripción (de ahı́ el nombre)."
   ]
  },
  {
   "attachments": {},
   "cell_type": "markdown",
   "metadata": {},
   "source": [
    "- Estadística descriptiva: Población y muestra. Caracteres cuantitativos o cualitativos. Variable estadística. Distribuciones de frecuencias. Tabla de frecuencias de una variable discreta. Agrupamiento en intervalos de clase."
   ]
  },
  {
   "cell_type": "code",
   "execution_count": null,
   "metadata": {
    "vscode": {
     "languageId": "plaintext"
    }
   },
   "outputs": [],
   "source": [
    "import pandas as pd\n",
    "\n"
   ]
  },
  {
   "attachments": {},
   "cell_type": "markdown",
   "metadata": {},
   "source": [
    "- Medidas características de una distribución: Medidas de centralización. Medidas de dispersión.\n",
    "Recorridos. Desviación media. Varianza y desviación típica. Coeficientes de variación. Asimetría y\n",
    "curtosis.\n"
   ]
  },
  {
   "cell_type": "code",
   "execution_count": null,
   "metadata": {
    "vscode": {
     "languageId": "plaintext"
    }
   },
   "outputs": [],
   "source": []
  },
  {
   "attachments": {},
   "cell_type": "markdown",
   "metadata": {},
   "source": [
    "- Variables aleatorias: Descripción de las variables aleatorias. Concepto de variable aleatoria. Variable\n",
    "aleatoria discreta. Variable aleatoria continua. Medidas características de una variable aleatoria.\n",
    "Varianza y desviación típica."
   ]
  },
  {
   "cell_type": "code",
   "execution_count": null,
   "metadata": {
    "vscode": {
     "languageId": "plaintext"
    }
   },
   "outputs": [],
   "source": []
  },
  {
   "attachments": {},
   "cell_type": "markdown",
   "metadata": {},
   "source": [
    "- Distribuciones discretas de probabilidad. Distribuciones continuas de probabilidad. Distribución χ de\n",
    "Pearson. Distribución t de Student. Distribución F de Fisher."
   ]
  },
  {
   "cell_type": "code",
   "execution_count": null,
   "metadata": {
    "vscode": {
     "languageId": "plaintext"
    }
   },
   "outputs": [],
   "source": []
  }
 ],
 "metadata": {
  "language_info": {
   "name": "python"
  },
  "orig_nbformat": 4
 },
 "nbformat": 4,
 "nbformat_minor": 2
}
