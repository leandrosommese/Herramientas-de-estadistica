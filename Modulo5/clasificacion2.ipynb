{
 "cells": [
  {
   "attachments": {},
   "cell_type": "markdown",
   "metadata": {},
   "source": [
    "https://scikit-learn.org/stable/modules/preprocessing.html"
   ]
  },
  {
   "cell_type": "code",
   "execution_count": 2,
   "metadata": {
    "id": "JcnvwvDPsB9l"
   },
   "outputs": [],
   "source": [
    "import pandas as pd\n",
    "import matplotlib.pyplot as plt"
   ]
  },
  {
   "cell_type": "code",
   "execution_count": 3,
   "metadata": {
    "id": "oBG6RaA7sB9r"
   },
   "outputs": [],
   "source": [
    "path = './'\n",
    "sparks_data_list = pd.read_csv(path  + 'sparks_data_list.csv')\n",
    "del sparks_data_list['Unnamed: 0']"
   ]
  },
  {
   "cell_type": "code",
   "execution_count": 4,
   "metadata": {
    "id": "D4M-ISmTsB9r",
    "outputId": "609ed436-4f50-42d2-a6b7-191a7e20726c"
   },
   "outputs": [
    {
     "name": "stdout",
     "output_type": "stream",
     "text": [
      "(2397, 16)\n"
     ]
    }
   ],
   "source": [
    "print(sparks_data_list.shape)"
   ]
  },
  {
   "cell_type": "code",
   "execution_count": 5,
   "metadata": {
    "id": "3cDG7cAssB9s",
    "outputId": "c5f1c083-4edf-4f2d-9439-88e003ca910b"
   },
   "outputs": [
    {
     "name": "stdout",
     "output_type": "stream",
     "text": [
      "[2. 1.]\n"
     ]
    }
   ],
   "source": [
    "print(sparks_data_list['flag'].unique())"
   ]
  },
  {
   "cell_type": "code",
   "execution_count": 6,
   "metadata": {
    "id": "CBu8C0SusB9s",
    "outputId": "3dc6fc65-7f3b-40fb-abf2-c39395c2df1e"
   },
   "outputs": [
    {
     "data": {
      "text/html": [
       "<div>\n",
       "<style scoped>\n",
       "    .dataframe tbody tr th:only-of-type {\n",
       "        vertical-align: middle;\n",
       "    }\n",
       "\n",
       "    .dataframe tbody tr th {\n",
       "        vertical-align: top;\n",
       "    }\n",
       "\n",
       "    .dataframe thead th {\n",
       "        text-align: right;\n",
       "    }\n",
       "</style>\n",
       "<table border=\"1\" class=\"dataframe\">\n",
       "  <thead>\n",
       "    <tr style=\"text-align: right;\">\n",
       "      <th></th>\n",
       "      <th>tiempo_maximo</th>\n",
       "      <th>intensidad_maxima</th>\n",
       "      <th>intensidad_minima</th>\n",
       "      <th>tiempo_valle</th>\n",
       "      <th>intensidad_valle</th>\n",
       "      <th>sparks_amplitud</th>\n",
       "      <th>TTP</th>\n",
       "      <th>sparks_tiempo_pico50</th>\n",
       "      <th>sp_tau</th>\n",
       "      <th>TTP50</th>\n",
       "      <th>fullWidth</th>\n",
       "      <th>(ΔF/F0)/ΔTmax</th>\n",
       "      <th>fullDuration</th>\n",
       "      <th>width</th>\n",
       "      <th>high</th>\n",
       "      <th>flag</th>\n",
       "    </tr>\n",
       "  </thead>\n",
       "  <tbody>\n",
       "    <tr>\n",
       "      <th>0</th>\n",
       "      <td>13.0</td>\n",
       "      <td>10.925926</td>\n",
       "      <td>7.740741</td>\n",
       "      <td>23.0</td>\n",
       "      <td>7.666667</td>\n",
       "      <td>0.411483</td>\n",
       "      <td>8.0</td>\n",
       "      <td>9.482171</td>\n",
       "      <td>32.285667</td>\n",
       "      <td>4.482171</td>\n",
       "      <td>11.0</td>\n",
       "      <td>0.051435</td>\n",
       "      <td>18.0</td>\n",
       "      <td>25.0</td>\n",
       "      <td>27.0</td>\n",
       "      <td>2.0</td>\n",
       "    </tr>\n",
       "    <tr>\n",
       "      <th>1</th>\n",
       "      <td>4.0</td>\n",
       "      <td>10.941176</td>\n",
       "      <td>8.117647</td>\n",
       "      <td>7.0</td>\n",
       "      <td>7.764706</td>\n",
       "      <td>0.347826</td>\n",
       "      <td>2.0</td>\n",
       "      <td>3.206613</td>\n",
       "      <td>9.208165</td>\n",
       "      <td>1.206613</td>\n",
       "      <td>12.0</td>\n",
       "      <td>0.173913</td>\n",
       "      <td>5.0</td>\n",
       "      <td>12.0</td>\n",
       "      <td>17.0</td>\n",
       "      <td>2.0</td>\n",
       "    </tr>\n",
       "    <tr>\n",
       "      <th>2</th>\n",
       "      <td>3.0</td>\n",
       "      <td>7.230769</td>\n",
       "      <td>6.884615</td>\n",
       "      <td>4.0</td>\n",
       "      <td>6.615385</td>\n",
       "      <td>0.050279</td>\n",
       "      <td>1.0</td>\n",
       "      <td>2.506131</td>\n",
       "      <td>11.242589</td>\n",
       "      <td>0.506131</td>\n",
       "      <td>18.0</td>\n",
       "      <td>0.050279</td>\n",
       "      <td>2.0</td>\n",
       "      <td>12.0</td>\n",
       "      <td>26.0</td>\n",
       "      <td>1.0</td>\n",
       "    </tr>\n",
       "    <tr>\n",
       "      <th>3</th>\n",
       "      <td>15.0</td>\n",
       "      <td>10.363636</td>\n",
       "      <td>7.454545</td>\n",
       "      <td>0.0</td>\n",
       "      <td>9.636364</td>\n",
       "      <td>0.390244</td>\n",
       "      <td>14.0</td>\n",
       "      <td>12.507874</td>\n",
       "      <td>NaN</td>\n",
       "      <td>11.507874</td>\n",
       "      <td>2.0</td>\n",
       "      <td>0.027875</td>\n",
       "      <td>-1.0</td>\n",
       "      <td>17.0</td>\n",
       "      <td>11.0</td>\n",
       "      <td>2.0</td>\n",
       "    </tr>\n",
       "    <tr>\n",
       "      <th>4</th>\n",
       "      <td>24.0</td>\n",
       "      <td>10.689655</td>\n",
       "      <td>7.931034</td>\n",
       "      <td>26.0</td>\n",
       "      <td>8.229885</td>\n",
       "      <td>0.347826</td>\n",
       "      <td>13.0</td>\n",
       "      <td>19.740930</td>\n",
       "      <td>7.648054</td>\n",
       "      <td>8.740930</td>\n",
       "      <td>25.0</td>\n",
       "      <td>0.026756</td>\n",
       "      <td>15.0</td>\n",
       "      <td>41.0</td>\n",
       "      <td>87.0</td>\n",
       "      <td>2.0</td>\n",
       "    </tr>\n",
       "  </tbody>\n",
       "</table>\n",
       "</div>"
      ],
      "text/plain": [
       "   tiempo_maximo  intensidad_maxima  intensidad_minima  tiempo_valle  \\\n",
       "0           13.0          10.925926           7.740741          23.0   \n",
       "1            4.0          10.941176           8.117647           7.0   \n",
       "2            3.0           7.230769           6.884615           4.0   \n",
       "3           15.0          10.363636           7.454545           0.0   \n",
       "4           24.0          10.689655           7.931034          26.0   \n",
       "\n",
       "   intensidad_valle  sparks_amplitud   TTP  sparks_tiempo_pico50     sp_tau  \\\n",
       "0          7.666667         0.411483   8.0              9.482171  32.285667   \n",
       "1          7.764706         0.347826   2.0              3.206613   9.208165   \n",
       "2          6.615385         0.050279   1.0              2.506131  11.242589   \n",
       "3          9.636364         0.390244  14.0             12.507874        NaN   \n",
       "4          8.229885         0.347826  13.0             19.740930   7.648054   \n",
       "\n",
       "       TTP50  fullWidth  (ΔF/F0)/ΔTmax  fullDuration  width  high  flag  \n",
       "0   4.482171       11.0       0.051435          18.0   25.0  27.0   2.0  \n",
       "1   1.206613       12.0       0.173913           5.0   12.0  17.0   2.0  \n",
       "2   0.506131       18.0       0.050279           2.0   12.0  26.0   1.0  \n",
       "3  11.507874        2.0       0.027875          -1.0   17.0  11.0   2.0  \n",
       "4   8.740930       25.0       0.026756          15.0   41.0  87.0   2.0  "
      ]
     },
     "execution_count": 6,
     "metadata": {},
     "output_type": "execute_result"
    }
   ],
   "source": [
    "sparks_data_list.head()"
   ]
  },
  {
   "cell_type": "code",
   "execution_count": 7,
   "metadata": {
    "id": "OplgMDWcsB9t",
    "outputId": "14c25a5d-24ff-41b6-a36e-42d339ef1a67"
   },
   "outputs": [
    {
     "name": "stdout",
     "output_type": "stream",
     "text": [
      "flag\n",
      "1.0    1113\n",
      "2.0    1284\n",
      "dtype: int64\n"
     ]
    }
   ],
   "source": [
    "print(sparks_data_list.groupby('flag').size())"
   ]
  },
  {
   "cell_type": "code",
   "execution_count": 8,
   "metadata": {
    "id": "oiOXg6x0sB9t",
    "outputId": "43196207-0eef-49ad-a995-6e26a21b0d9a"
   },
   "outputs": [
    {
     "name": "stderr",
     "output_type": "stream",
     "text": [
      "/home/lean/.local/lib/python3.8/site-packages/seaborn/_decorators.py:36: FutureWarning: Pass the following variable as a keyword arg: x. From version 0.12, the only valid positional argument will be `data`, and passing other arguments without an explicit keyword will result in an error or misinterpretation.\n",
      "  warnings.warn(\n"
     ]
    },
    {
     "data": {
      "image/png": "[encoded data removed]",
      "text/plain": [
       "<Figure size 432x288 with 1 Axes>"
      ]
     },
     "metadata": {
      "needs_background": "light"
     },
     "output_type": "display_data"
    }
   ],
   "source": [
    "import seaborn as sns\n",
    "sns.countplot(sparks_data_list['flag'],label=\"Count\")\n",
    "plt.show()"
   ]
  },
  {
   "cell_type": "code",
   "execution_count": 9,
   "metadata": {
    "id": "MmQNZJTKsB9u",
    "outputId": "0ac7f08a-a820-4ba2-abac-a5273791a6f5"
   },
   "outputs": [
    {
     "data": {
      "image/png": "[encoded data removed]",
      "text/plain": [
       "<Figure size 648x648 with 25 Axes>"
      ]
     },
     "metadata": {
      "needs_background": "light"
     },
     "output_type": "display_data"
    }
   ],
   "source": [
    "sparks_data_list.plot(kind='box', subplots=True, layout=(5,5), sharex=False, sharey=False, figsize=(9,9), \n",
    "                                        title='Box Plot for each input variable')\n",
    "plt.show()"
   ]
  },
  {
   "cell_type": "code",
   "execution_count": 10,
   "metadata": {
    "id": "-IFKatP3sB9u",
    "outputId": "39e1c3e8-198f-478b-9468-be4e7f56665c"
   },
   "outputs": [
    {
     "data": {
      "image/png": "[encoded data removed]",
      "text/plain": [
       "<Figure size 648x648 with 16 Axes>"
      ]
     },
     "metadata": {
      "needs_background": "light"
     },
     "output_type": "display_data"
    }
   ],
   "source": [
    "import pylab as pl\n",
    "sparks_data_list.hist(bins=30, figsize=(9,9))\n",
    "pl.suptitle(\"Histogram for each numeric input variable\")\n",
    "# plt.savefig('fruits_hist')\n",
    "plt.show()"
   ]
  },
  {
   "cell_type": "code",
   "execution_count": 32,
   "metadata": {
    "id": "FmBIvM6WsB9u"
   },
   "outputs": [],
   "source": [
    "from matplotlib import cm\n",
    "\n",
    "feature_names = list(sparks_data_list.columns)\n",
    "feature_names.remove('flag')\n",
    "X = sparks_data_list[feature_names]\n",
    "y = sparks_data_list['flag']"
   ]
  },
  {
   "cell_type": "code",
   "execution_count": 33,
   "metadata": {
    "id": "tuoVd8jxsB9v",
    "outputId": "be7170b3-edf9-46d8-f7dd-8d57a224dd31"
   },
   "outputs": [
    {
     "data": {
      "text/plain": [
       "['tiempo_maximo',\n",
       " 'intensidad_maxima',\n",
       " 'intensidad_minima',\n",
       " 'tiempo_valle',\n",
       " 'intensidad_valle',\n",
       " 'sparks_amplitud',\n",
       " 'TTP',\n",
       " 'sparks_tiempo_pico50',\n",
       " 'sp_tau',\n",
       " 'TTP50',\n",
       " 'fullWidth',\n",
       " '(ΔF/F0)/ΔTmax',\n",
       " 'fullDuration',\n",
       " 'width',\n",
       " 'high']"
      ]
     },
     "execution_count": 33,
     "metadata": {},
     "output_type": "execute_result"
    }
   ],
   "source": [
    "feature_names"
   ]
  },
  {
   "cell_type": "code",
   "execution_count": 47,
   "metadata": {
    "id": "PVbezen6sB9v"
   },
   "outputs": [],
   "source": [
    "from sklearn.model_selection import train_test_split\n",
    "from sklearn import preprocessing\n",
    "from sklearn.impute import SimpleImputer\n",
    "import numpy as np\n",
    "\n",
    "X_train, X_test, y_train, y_test = train_test_split(X,y, random_state=0)\n",
    "\n",
    "# Tratamiento de NaN\n",
    "imp = SimpleImputer(missing_values=np.nan, strategy='median') # Uso la mediana para reemplazar\n",
    "imp.fit(X_train)\n",
    "X_train = imp.transform(X_train)\n",
    "\n",
    "imp.fit(X_test)\n",
    "X_test = imp.transform(X_test)\n",
    "\n",
    "#linear transformation\n",
    "\n",
    "from sklearn.preprocessing import MinMaxScaler\n",
    "scaler = MinMaxScaler()\n",
    "X_train = scaler.fit_transform(X_train)\n",
    "X_test = scaler.transform(X_test)\n",
    "\n",
    "X_train = preprocessing.normalize(X_train, norm='l2')\n",
    "X_test = preprocessing.normalize(X_test, norm='l2')"
   ]
  },
  {
   "cell_type": "code",
   "execution_count": 48,
   "metadata": {
    "id": "hTW1134VsB9v",
    "outputId": "e97b68f9-7e0f-4a57-d539-60a88e066945"
   },
   "outputs": [
    {
     "name": "stdout",
     "output_type": "stream",
     "text": [
      "Accuracy of Logistic regression classifier on training set: 0.62\n",
      "Accuracy of Logistic regression classifier on test set: 0.61\n"
     ]
    },
    {
     "name": "stderr",
     "output_type": "stream",
     "text": [
      "/home/lean/anaconda3/lib/python3.9/site-packages/sklearn/linear_model/_logistic.py:763: ConvergenceWarning: lbfgs failed to converge (status=1):\n",
      "STOP: TOTAL NO. of ITERATIONS REACHED LIMIT.\n",
      "\n",
      "Increase the number of iterations (max_iter) or scale the data as shown in:\n",
      "    https://scikit-learn.org/stable/modules/preprocessing.html\n",
      "Please also refer to the documentation for alternative solver options:\n",
      "    https://scikit-learn.org/stable/modules/linear_model.html#logistic-regression\n",
      "  n_iter_i = _check_optimize_result(\n"
     ]
    }
   ],
   "source": [
    "from sklearn.linear_model import LogisticRegression\n",
    "logreg = LogisticRegression(C=15.0)\n",
    "logreg.fit(X_train, y_train)\n",
    "print('Accuracy of Logistic regression classifier on training set: {:.2f}'\n",
    "     .format(logreg.score(X_train, y_train)))\n",
    "print('Accuracy of Logistic regression classifier on test set: {:.2f}'\n",
    "     .format(logreg.score(X_test, y_test)))"
   ]
  },
  {
   "cell_type": "code",
   "execution_count": 49,
   "metadata": {
    "id": "AwjR8AL6sB9v",
    "outputId": "f7bde221-f2c4-47e9-fe8c-16737b7a123c"
   },
   "outputs": [
    {
     "name": "stdout",
     "output_type": "stream",
     "text": [
      "Accuracy of Decision Tree classifier on training set: 1.00\n",
      "Accuracy of Decision Tree classifier on test set: 0.59\n"
     ]
    }
   ],
   "source": [
    "from sklearn.tree import DecisionTreeClassifier\n",
    "clf = DecisionTreeClassifier(criterion='entropy').fit(X_train, y_train)\n",
    "print('Accuracy of Decision Tree classifier on training set: {:.2f}'\n",
    "     .format(clf.score(X_train, y_train)))\n",
    "print('Accuracy of Decision Tree classifier on test set: {:.2f}'\n",
    "     .format(clf.score(X_test, y_test)))"
   ]
  },
  {
   "cell_type": "code",
   "execution_count": 51,
   "metadata": {
    "id": "eltxQfs_sB9w",
    "outputId": "c074d20e-2732-4155-baae-597eed637a92"
   },
   "outputs": [
    {
     "data": {
      "image/png": "[encoded data removed]",
      "text/plain": [
       "<Figure size 432x288 with 1 Axes>"
      ]
     },
     "metadata": {
      "needs_background": "light"
     },
     "output_type": "display_data"
    }
   ],
   "source": [
    "from sklearn.neighbors import KNeighborsClassifier\n",
    "knn = KNeighborsClassifier(n_neighbors=10, weights='distance', algorithm='ball_tree')\n",
    "\n",
    "k_range = range(1, 20)\n",
    "scores = []\n",
    "for k in k_range:\n",
    "    knn = KNeighborsClassifier(n_neighbors = k)\n",
    "    knn.fit(X_train, y_train)\n",
    "    scores.append(knn.score(X_test, y_test))\n",
    "plt.figure()\n",
    "plt.xlabel('k')\n",
    "plt.ylabel('accuracy')\n",
    "plt.scatter(k_range, scores)\n",
    "plt.xticks([0,1,2,5,10,15,20])\n",
    "plt.show()"
   ]
  },
  {
   "cell_type": "code",
   "execution_count": 52,
   "metadata": {
    "id": "u0avZ7AhsB9w",
    "outputId": "4b66e884-b777-4c7e-cff7-3bbf7846edd8"
   },
   "outputs": [
    {
     "name": "stdout",
     "output_type": "stream",
     "text": [
      "Accuracy of K-NN classifier on training set: 0.69\n",
      "Accuracy of K-NN classifier on test set: 0.63\n"
     ]
    }
   ],
   "source": [
    "knn.fit(X_train, y_train)\n",
    "print('Accuracy of K-NN classifier on training set: {:.2f}'\n",
    "     .format(knn.score(X_train, y_train)))\n",
    "print('Accuracy of K-NN classifier on test set: {:.2f}'\n",
    "     .format(knn.score(X_test, y_test)))"
   ]
  },
  {
   "cell_type": "code",
   "execution_count": 53,
   "metadata": {
    "id": "duOJJuv3sB9w",
    "outputId": "c125d541-0f49-4900-fba4-233c548205a6"
   },
   "outputs": [
    {
     "name": "stdout",
     "output_type": "stream",
     "text": [
      "Accuracy of LDA classifier on training set: 0.62\n",
      "Accuracy of LDA classifier on test set: 0.61\n"
     ]
    }
   ],
   "source": [
    "from sklearn.discriminant_analysis import LinearDiscriminantAnalysis\n",
    "lda = LinearDiscriminantAnalysis()\n",
    "lda.fit(X_train, y_train)\n",
    "print('Accuracy of LDA classifier on training set: {:.2f}'\n",
    "     .format(lda.score(X_train, y_train)))\n",
    "print('Accuracy of LDA classifier on test set: {:.2f}'\n",
    "     .format(lda.score(X_test, y_test)))"
   ]
  },
  {
   "cell_type": "code",
   "execution_count": 54,
   "metadata": {
    "id": "YkG_O2y8sB9x",
    "outputId": "2b3d2d86-9d3b-42b4-9635-5e97f1079c31"
   },
   "outputs": [
    {
     "name": "stdout",
     "output_type": "stream",
     "text": [
      "Accuracy of QDA classifier on training set: 0.57\n",
      "Accuracy of QDA classifier on test set: 0.61\n"
     ]
    }
   ],
   "source": [
    "from sklearn.discriminant_analysis import QuadraticDiscriminantAnalysis\n",
    "qda = QuadraticDiscriminantAnalysis()\n",
    "qda.fit(X_train, y_train)\n",
    "print('Accuracy of QDA classifier on training set: {:.2f}'\n",
    "     .format(qda.score(X_train, y_train)))\n",
    "print('Accuracy of QDA classifier on test set: {:.2f}'\n",
    "     .format(qda.score(X_test, y_test)))"
   ]
  },
  {
   "cell_type": "code",
   "execution_count": 55,
   "metadata": {
    "id": "25RibIJKsB9x",
    "outputId": "1da8d2ce-378d-4824-ff04-fe5e96ae5247"
   },
   "outputs": [
    {
     "name": "stdout",
     "output_type": "stream",
     "text": [
      "Accuracy of GNB classifier on training set: 0.61\n",
      "Accuracy of GNB classifier on test set: 0.61\n"
     ]
    }
   ],
   "source": [
    "from sklearn.naive_bayes import GaussianNB\n",
    "gnb = GaussianNB()\n",
    "gnb.fit(X_train, y_train)\n",
    "print('Accuracy of GNB classifier on training set: {:.2f}'\n",
    "     .format(gnb.score(X_train, y_train)))\n",
    "print('Accuracy of GNB classifier on test set: {:.2f}'\n",
    "     .format(gnb.score(X_test, y_test)))"
   ]
  },
  {
   "cell_type": "code",
   "execution_count": 56,
   "metadata": {
    "id": "7f7cKbfjsB9x",
    "outputId": "0224ef90-48e0-4794-961a-e3daa159c747"
   },
   "outputs": [
    {
     "name": "stdout",
     "output_type": "stream",
     "text": [
      "[[180 118]\n",
      " [102 200]]\n",
      "              precision    recall  f1-score   support\n",
      "\n",
      "         1.0       0.64      0.60      0.62       298\n",
      "         2.0       0.63      0.66      0.65       302\n",
      "\n",
      "    accuracy                           0.63       600\n",
      "   macro avg       0.63      0.63      0.63       600\n",
      "weighted avg       0.63      0.63      0.63       600\n",
      "\n"
     ]
    }
   ],
   "source": [
    "from sklearn.metrics import classification_report\n",
    "from sklearn.metrics import confusion_matrix\n",
    "pred = knn.predict(X_test)\n",
    "print(confusion_matrix(y_test, pred))\n",
    "print(classification_report(y_test, pred))"
   ]
  },
  {
   "cell_type": "code",
   "execution_count": null,
   "metadata": {
    "id": "7JrHMLx6sB9y"
   },
   "outputs": [],
   "source": []
  },
  {
   "cell_type": "code",
   "execution_count": null,
   "metadata": {},
   "outputs": [],
   "source": []
  }
 ],
 "metadata": {
  "colab": {
   "collapsed_sections": [],
   "name": "clasificacion2.ipynb",
   "provenance": []
  },
  "kernelspec": {
   "display_name": "Python 3",
   "language": "python",
   "name": "python3"
  },
  "language_info": {
   "codemirror_mode": {
    "name": "ipython",
    "version": 3
   },
   "file_extension": ".py",
   "mimetype": "text/x-python",
   "name": "python",
   "nbconvert_exporter": "python",
   "pygments_lexer": "ipython3",
   "version": "3.8.10"
  }
 },
 "nbformat": 4,
 "nbformat_minor": 4
}
